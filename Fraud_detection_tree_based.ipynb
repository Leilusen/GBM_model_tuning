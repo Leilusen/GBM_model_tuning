{
  "nbformat": 4,
  "nbformat_minor": 0,
  "metadata": {
    "colab": {
      "name": "Копия Fraud_detection_tree_based.ipynb",
      "provenance": [],
      "collapsed_sections": [],
      "toc_visible": true,
      "machine_shape": "hm",
      "include_colab_link": true
    },
    "kernelspec": {
      "name": "python3",
      "display_name": "Python 3"
    },
    "accelerator": "GPU"
  },
  "cells": [
    {
      "cell_type": "markdown",
      "metadata": {
        "id": "view-in-github",
        "colab_type": "text"
      },
      "source": [
        "<a href=\"https://colab.research.google.com/github/Leilusen/GBM_model_tuning/blob/master/Fraud_detection_tree_based.ipynb\" target=\"_parent\"><img src=\"https://colab.research.google.com/assets/colab-badge.svg\" alt=\"Open In Colab\"/></a>"
      ]
    },
    {
      "cell_type": "markdown",
      "metadata": {
        "id": "74KEu1L8OnLq",
        "colab_type": "text"
      },
      "source": [
        "# Fraud detection in card transactions data."
      ]
    },
    {
      "cell_type": "markdown",
      "metadata": {
        "id": "LyLQLqBcOnLt",
        "colab_type": "text"
      },
      "source": [
        "### Setup\n",
        "Loading files and importing the necessary libraries."
      ]
    },
    {
      "cell_type": "code",
      "metadata": {
        "id": "naC94KtXOnLt",
        "colab_type": "code",
        "colab": {}
      },
      "source": [
        "from google.colab import files\n"
      ],
      "execution_count": 0,
      "outputs": []
    },
    {
      "cell_type": "code",
      "metadata": {
        "id": "52uhGDcS9rqF",
        "colab_type": "code",
        "outputId": "511f6a60-19e4-4323-8378-7496181c4d6d",
        "colab": {
          "resources": {
            "http://localhost:8080/nbextensions/google.colab/files.js": {
              "data": "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",
              "ok": true,
              "headers": [
                [
                  "content-type",
                  "application/javascript"
                ]
              ],
              "status": 200,
              "status_text": ""
            }
          },
          "base_uri": "https://localhost:8080/",
          "height": 209
        }
      },
      "source": [
        "uploaded = files.upload()"
      ],
      "execution_count": 0,
      "outputs": [
        {
          "output_type": "display_data",
          "data": {
            "text/html": [
              "\n",
              "     <input type=\"file\" id=\"files-8e4cf309-8088-4d52-a4d0-3c5de1b3808e\" name=\"files[]\" multiple disabled />\n",
              "     <output id=\"result-8e4cf309-8088-4d52-a4d0-3c5de1b3808e\">\n",
              "      Upload widget is only available when the cell has been executed in the\n",
              "      current browser session. Please rerun this cell to enable.\n",
              "      </output>\n",
              "      <script src=\"/nbextensions/google.colab/files.js\"></script> "
            ],
            "text/plain": [
              "<IPython.core.display.HTML object>"
            ]
          },
          "metadata": {
            "tags": []
          }
        },
        {
          "output_type": "stream",
          "text": [
            "Saving sample_submission.csv.zip to sample_submission.csv.zip\n",
            "Saving test_identity.csv.zip to test_identity.csv.zip\n",
            "Saving test_transaction.csv.zip to test_transaction.csv.zip\n",
            "Saving train_identity.csv.zip to train_identity.csv.zip\n",
            "Saving train_transaction.csv.zip to train_transaction.csv.zip\n"
          ],
          "name": "stdout"
        }
      ]
    },
    {
      "cell_type": "code",
      "metadata": {
        "id": "zWyGQHVj9rs7",
        "colab_type": "code",
        "colab": {}
      },
      "source": [
        "import pandas as pd\n",
        "import numpy as np\n",
        "import matplotlib.pyplot as plt\n",
        "import scipy\n",
        "from sklearn.preprocessing import LabelEncoder\n",
        "from sklearn.model_selection import train_test_split\n",
        "from sklearn.decomposition import NMF, TruncatedSVD, PCA\n",
        "from sklearn.ensemble import GradientBoostingClassifier\n",
        "from sklearn.ensemble import RandomForestClassifier\n",
        "from sklearn import metrics\n",
        "from sklearn.model_selection import cross_val_score\n",
        "from sklearn.model_selection import learning_curve, GridSearchCV\n",
        "from matplotlib.pylab import rcParams\n",
        "rcParams['figure.figsize'] = 20,4\n",
        "import gc\n",
        "#import lightgbm as lgb\n",
        "from sklearn.metrics import r2_score\n",
        "import lightgbm as lgb\n",
        "%matplotlib inline"
      ],
      "execution_count": 0,
      "outputs": []
    },
    {
      "cell_type": "code",
      "metadata": {
        "id": "ApN2Mcc39rwJ",
        "colab_type": "code",
        "colab": {}
      },
      "source": [
        "train_identity = pd.read_csv('train_identity.csv.zip',compression='zip')\n",
        "train_transaction = pd.read_csv('train_transaction.csv.zip',compression='zip')\n",
        "test_identity = pd.read_csv('test_identity.csv.zip',compression='zip')\n",
        "test_transaction = pd.read_csv('test_transaction.csv.zip',compression='zip')\n",
        "sample_submission = pd.read_csv('sample_submission.csv.zip',compression='zip')\n"
      ],
      "execution_count": 0,
      "outputs": []
    },
    {
      "cell_type": "markdown",
      "metadata": {
        "id": "ml3AGbTWKrsx",
        "colab_type": "text"
      },
      "source": [
        "### Data preprocessing"
      ]
    },
    {
      "cell_type": "code",
      "metadata": {
        "id": "JCqt8lySH_on",
        "colab_type": "code",
        "colab": {}
      },
      "source": [
        "#Reducing memory usage of the dataframes by changing respective datatypes.\n",
        "\n",
        "def reduce_mem_usage(df):\n",
        "    start_mem = df.memory_usage().sum() / 1024**2\n",
        "    print('Memory usage of dataframe is {:.2f} MB'.format(start_mem))\n",
        "    \n",
        "    for col in df.columns:\n",
        "        col_type = df[col].dtype\n",
        "        if col_type != object:\n",
        "            c_min = df[col].min()\n",
        "            c_max = df[col].max()\n",
        "            if str(col_type)[:3] == 'int':\n",
        "                if c_min > np.iinfo(np.int8).min and c_max < np.iinfo(np.int8).max:\n",
        "                    df[col] = df[col].astype(np.int8)\n",
        "                elif c_min > np.iinfo(np.int16).min and c_max < np.iinfo(np.int16).max:\n",
        "                    df[col] = df[col].astype(np.int16)\n",
        "                elif c_min > np.iinfo(np.int32).min and c_max < np.iinfo(np.int32).max:\n",
        "                    df[col] = df[col].astype(np.int32)\n",
        "                elif c_min > np.iinfo(np.int64).min and c_max < np.iinfo(np.int64).max:\n",
        "                    df[col] = df[col].astype(np.int64)  \n",
        "            else:\n",
        "                if c_min > np.finfo(np.float16).min and c_max < np.finfo(np.float16).max:\n",
        "                    df[col] = df[col].astype(np.float16)\n",
        "                elif c_min > np.finfo(np.float32).min and c_max < np.finfo(np.float32).max:\n",
        "                    df[col] = df[col].astype(np.float32)\n",
        "                else:\n",
        "                    df[col] = df[col].astype(np.float64)\n",
        "    end_mem = df.memory_usage().sum() / 1024**2\n",
        "    print('Memory usage after optimization is: {:.2f} MB'.format(end_mem))\n",
        "    print('Decreased by {:.1f}%'.format(100 * (start_mem - end_mem) / start_mem))\n",
        "    \n",
        "    return df"
      ],
      "execution_count": 0,
      "outputs": []
    },
    {
      "cell_type": "code",
      "metadata": {
        "id": "H-hJ6_wBOnLz",
        "colab_type": "code",
        "outputId": "316477c4-35ee-4707-82ca-7dec12687f97",
        "colab": {
          "base_uri": "https://localhost:8080/",
          "height": 272
        }
      },
      "source": [
        "train = pd.merge(train_transaction, train_identity, how='left', on=['TransactionID'])\n",
        "del train_transaction, train_identity\n",
        "\n",
        "test = pd.merge(test_transaction, test_identity, how='left', on=['TransactionID'])\n",
        "del test_transaction, test_identity\n",
        "\n",
        "train = train.fillna(-999)\n",
        "test = test.fillna(-999)\n",
        "\n",
        "train = reduce_mem_usage(train)\n",
        "test = reduce_mem_usage(test)\n",
        "train_len = len(train)\n",
        "test_len = len(test)\n",
        "train_test = pd.concat([train, test], axis = 0, ignore_index=True)\n",
        "del train, test"
      ],
      "execution_count": 0,
      "outputs": [
        {
          "output_type": "stream",
          "text": [
            "Memory usage of dataframe is 1959.88 MB\n",
            "Memory usage after optimization is: 650.48 MB\n",
            "Decreased by 66.8%\n",
            "Memory usage of dataframe is 1677.73 MB\n",
            "Memory usage after optimization is: 565.37 MB\n",
            "Decreased by 66.3%\n"
          ],
          "name": "stdout"
        },
        {
          "output_type": "stream",
          "text": [
            "/usr/local/lib/python3.6/dist-packages/ipykernel_launcher.py:14: FutureWarning: Sorting because non-concatenation axis is not aligned. A future version\n",
            "of pandas will change to not sort by default.\n",
            "\n",
            "To accept the future behavior, pass 'sort=False'.\n",
            "\n",
            "To retain the current behavior and silence the warning, pass 'sort=True'.\n",
            "\n",
            "  \n"
          ],
          "name": "stderr"
        }
      ]
    },
    {
      "cell_type": "code",
      "metadata": {
        "id": "mK9Kt1m_5OrK",
        "colab_type": "code",
        "colab": {}
      },
      "source": [
        "train_test['day'] = train_test['TransactionDT']//86400%7\n",
        "train_test['hour'] = train_test['TransactionDT']%86400//3600+1\n",
        "train_test['min'] = train_test['TransactionDT']%86400//60%60+1\n",
        "train_test['Amt_int'] = train_test['TransactionAmt'].astype(int)\n",
        "train_test['Amt_fl'] = train_test['TransactionAmt'] - train_test['TransactionAmt'].astype(int)"
      ],
      "execution_count": 0,
      "outputs": []
    },
    {
      "cell_type": "code",
      "metadata": {
        "id": "1EpEjCPcGG5k",
        "colab_type": "code",
        "outputId": "ce2fe501-557b-4668-9629-455ccee4cc5a",
        "colab": {
          "base_uri": "https://localhost:8080/",
          "height": 34
        }
      },
      "source": [
        "def encode_cat_feats_fit(df, columns_to_encode):\n",
        "    encoders={}\n",
        "    for c in columns_to_encode:\n",
        "        encoder=LabelEncoder()\n",
        "        encoder.fit(df[c].astype(str).values)\n",
        "        encoders[c] = encoder\n",
        "    return encoders\n",
        "\n",
        "def encode_cat_feats_transform(df, encoders):\n",
        "    out = pd.DataFrame(index=df.index)\n",
        "    for c in encoders.keys():\n",
        "        out[c] = encoders[c].transform(df[c].astype(str).values)\n",
        "    return out\n",
        "\n",
        "categorial_features_columns = [\n",
        "    'id_12', 'id_13', 'id_14', 'id_15', 'id_16', 'id_17', 'id_18', 'id_19', 'id_20', 'id_21',\n",
        "    'id_22', 'id_23', 'id_24', 'id_25', 'id_26', 'id_27', 'id_28', 'id_29', 'id_30', 'id_31',\n",
        "    'id_32', 'id_33', 'id_34', 'id_35', 'id_36', 'id_37', 'id_38',\n",
        "    'DeviceType', 'DeviceInfo', 'ProductCD', 'P_emaildomain', 'R_emaildomain',\n",
        "    'card1', 'card2', 'card3', 'card4', 'card5', 'card6',\n",
        "    'addr1', 'addr2',\n",
        "    'M1', 'M2', 'M3', 'M4', 'M5', 'M6', 'M7', 'M8', 'M9',\n",
        "    'P_emaildomain', 'R_emaildomain'\n",
        "]\n",
        "\n",
        "cat_feats_encoders = encode_cat_feats_fit(train_test,categorial_features_columns)\n",
        "temp = encode_cat_feats_transform(train_test,cat_feats_encoders)\n",
        "columns_to_drop = list(set(categorial_features_columns) & set(train_test.columns))\n",
        "train_test=train_test.drop(columns_to_drop,axis=1).merge(temp,how='left',left_index=True,right_index=True)\n",
        "del temp\n",
        "gc.collect()"
      ],
      "execution_count": 0,
      "outputs": [
        {
          "output_type": "execute_result",
          "data": {
            "text/plain": [
              "70"
            ]
          },
          "metadata": {
            "tags": []
          },
          "execution_count": 10
        }
      ]
    },
    {
      "cell_type": "code",
      "metadata": {
        "id": "bLRHCNqNEiuj",
        "colab_type": "code",
        "colab": {}
      },
      "source": [
        "train_data, test_data = train_test[:train_len], train_test[train_len:]\n",
        "target='isFraud'\n",
        "IDcol='TransactionID'"
      ],
      "execution_count": 0,
      "outputs": []
    },
    {
      "cell_type": "markdown",
      "metadata": {
        "id": "saSAgU6RKCFc",
        "colab_type": "text"
      },
      "source": [
        "### Gradient Boosting Classifier."
      ]
    },
    {
      "cell_type": "markdown",
      "metadata": {
        "id": "bf_D96Fzx6WN",
        "colab_type": "text"
      },
      "source": [
        "Fitting initial model with default parameters."
      ]
    },
    {
      "cell_type": "code",
      "metadata": {
        "id": "tbBoykiPzhHN",
        "colab_type": "code",
        "outputId": "d227d9c2-d7bf-4b36-9d68-cde6d50ed529",
        "colab": {
          "base_uri": "https://localhost:8080/",
          "height": 487
        }
      },
      "source": [
        "predictors = [x for x in train_test.columns if x not in [target,IDcol]]\n",
        "\n",
        "X_train, X_test, y_train, y_test = train_test_split(train_data[predictors], train_data[target], test_size=0.2, random_state=10)\n",
        "model_gbc = GradientBoostingClassifier(n_estimators = 10, random_state=10)\n",
        "model_gbc.fit(X_train,y_train)\n",
        "\n",
        "y_pred = model_gbc.predict(X_test)\n",
        "y_pred_prob = model_gbc.predict_proba(X_test)[:,1]\n",
        "       \n",
        "#Print model report:\n",
        "print(\"\\nModel Report\")\n",
        "print('Accuracy: %.4g' % metrics.accuracy_score(y_test.values,y_pred))\n",
        "print('AUC Score: %f' % metrics.roc_auc_score(y_test,y_pred_prob))\n",
        "\n",
        "feat_imp = pd.Series(model_gbc.feature_importances_,predictors).sort_values(ascending=False)\n",
        "fig = plt.figure(figsize=(15,5))\n",
        "feat_imp[:80].plot(kind='bar', title='Feature Importances')\n",
        "plt.ylabel('Feature Importance Score')"
      ],
      "execution_count": 0,
      "outputs": [
        {
          "output_type": "stream",
          "text": [
            "\n",
            "Model Report\n",
            "Accuracy: 0.97\n",
            "AUC Score: 0.813294\n"
          ],
          "name": "stdout"
        },
        {
          "output_type": "execute_result",
          "data": {
            "text/plain": [
              "Text(0, 0.5, 'Feature Importance Score')"
            ]
          },
          "metadata": {
            "tags": []
          },
          "execution_count": 38
        },
        {
          "output_type": "display_data",
          "data": {
            "image/png": "[encoded data removed]",
            "text/plain": [
              "<Figure size 1080x360 with 1 Axes>"
            ]
          },
          "metadata": {
            "tags": []
          }
        }
      ]
    },
    {
      "cell_type": "markdown",
      "metadata": {
        "id": "mcOpCqvlyGWa",
        "colab_type": "text"
      },
      "source": [
        "Gradual parameter tuning and assessing AUC score at each stage."
      ]
    },
    {
      "cell_type": "code",
      "metadata": {
        "id": "kiNkg5bIGQgi",
        "colab_type": "code",
        "colab": {}
      },
      "source": [
        "#Choose all predictors except target & IDcols\n",
        "predictors = [x for x in train_data.columns if x not in [target, IDcol]]\n",
        "param_test1 = {'n_estimators':range(20,81,10)}\n",
        "gsearch1 = GridSearchCV(estimator = GradientBoostingClassifier(learning_rate=0.15, min_samples_split=500,min_samples_leaf=50,max_depth=8,max_features='sqrt',subsample=0.8,random_state=10), \n",
        "param_grid = param_test1, scoring='roc_auc',n_jobs=1,iid=False, cv=5)\n",
        "gsearch1.fit(train_data[predictors],train_data[target])\n"
      ],
      "execution_count": 0,
      "outputs": []
    },
    {
      "cell_type": "code",
      "metadata": {
        "id": "SW61mZ8BGHB5",
        "colab_type": "code",
        "outputId": "09e98e46-623a-4185-8a64-ea868a81a011",
        "colab": {
          "base_uri": "https://localhost:8080/",
          "height": 34
        }
      },
      "source": [
        "gsearch1.best_params_, gsearch1.best_score_"
      ],
      "execution_count": 0,
      "outputs": [
        {
          "output_type": "execute_result",
          "data": {
            "text/plain": [
              "({'n_estimators': 60}, 0.8472008127371516)"
            ]
          },
          "metadata": {
            "tags": []
          },
          "execution_count": 53
        }
      ]
    },
    {
      "cell_type": "code",
      "metadata": {
        "id": "CEc9dpkiyiNC",
        "colab_type": "code",
        "colab": {}
      },
      "source": [
        "param_test2 = {'max_depth':range(5,16,2), 'min_samples_split':range(200,1001,200)}\n",
        "gsearch2 = GridSearchCV(estimator = GradientBoostingClassifier(learning_rate=0.15, n_estimators=60, max_features='sqrt', subsample=0.8, random_state=10), \n",
        "param_grid = param_test2, scoring='roc_auc',n_jobs=1,iid=False, cv=5)\n",
        "gsearch2.fit(train_data[predictors],train_data[target])"
      ],
      "execution_count": 0,
      "outputs": []
    },
    {
      "cell_type": "code",
      "metadata": {
        "id": "u_CjaRTG0Lht",
        "colab_type": "code",
        "outputId": "621f14a3-500e-40f0-f1e0-8b958eb5f1bd",
        "colab": {
          "base_uri": "https://localhost:8080/",
          "height": 34
        }
      },
      "source": [
        "gsearch2.best_params_, gsearch2.best_score_"
      ],
      "execution_count": 0,
      "outputs": [
        {
          "output_type": "execute_result",
          "data": {
            "text/plain": [
              "({'max_depth': 9, 'min_samples_split': 800}, 0.8751905822888435)"
            ]
          },
          "metadata": {
            "tags": []
          },
          "execution_count": 60
        }
      ]
    },
    {
      "cell_type": "code",
      "metadata": {
        "id": "q6nV38goTxhU",
        "colab_type": "code",
        "colab": {}
      },
      "source": [
        "param_test3 = {'min_samples_leaf':range(30,81,10)}\n",
        "gsearch3 = GridSearchCV(estimator = GradientBoostingClassifier(learning_rate=0.15, n_estimators=60,max_depth=9, min_samples_split=800, max_features='sqrt', subsample=0.8, random_state=10), \n",
        "param_grid = param_test3, scoring='roc_auc',n_jobs=1,iid=False, cv=5)\n",
        "gsearch3.fit(train_data[predictors],train_data[target])\n",
        "gsearch3.best_params_, gsearch3.best_score_"
      ],
      "execution_count": 0,
      "outputs": []
    },
    {
      "cell_type": "code",
      "metadata": {
        "id": "iPO29fx-3dkN",
        "colab_type": "code",
        "outputId": "f7b8ff6e-f375-436a-8449-d834bf57ad65",
        "colab": {
          "base_uri": "https://localhost:8080/",
          "height": 34
        }
      },
      "source": [
        "gsearch3.best_params_, gsearch3.best_score_"
      ],
      "execution_count": 0,
      "outputs": [
        {
          "output_type": "execute_result",
          "data": {
            "text/plain": [
              "({'min_samples_leaf': 40}, 0.875091052709881)"
            ]
          },
          "metadata": {
            "tags": []
          },
          "execution_count": 16
        }
      ]
    },
    {
      "cell_type": "code",
      "metadata": {
        "id": "S8zokf5sW1ok",
        "colab_type": "code",
        "outputId": "0320deef-2419-4a57-f23a-760ec042c7c4",
        "colab": {
          "base_uri": "https://localhost:8080/",
          "height": 34
        }
      },
      "source": [
        "param_test4 = {'max_features':range(14,27,2)}\n",
        "gsearch4 = GridSearchCV(estimator = GradientBoostingClassifier(learning_rate=0.15, n_estimators=60,max_depth=9, min_samples_split=800, min_samples_leaf=40, subsample=0.8, random_state=10),\n",
        "param_grid = param_test4, scoring='roc_auc',n_jobs=1,iid=False, cv=5)\n",
        "gsearch4.fit(train_data[predictors],train_data[target])\n",
        "gsearch4.best_params_, gsearch4.best_score_"
      ],
      "execution_count": 0,
      "outputs": [
        {
          "output_type": "execute_result",
          "data": {
            "text/plain": [
              "({'max_features': 20}, 0.875091052709881)"
            ]
          },
          "metadata": {
            "tags": []
          },
          "execution_count": 18
        }
      ]
    },
    {
      "cell_type": "code",
      "metadata": {
        "id": "B4fzYKaCXsla",
        "colab_type": "code",
        "outputId": "91633b7e-856e-4f56-bfd5-79a0fbef3ab7",
        "colab": {
          "base_uri": "https://localhost:8080/",
          "height": 34
        }
      },
      "source": [
        "param_test5 = {'subsample':[0.5,0.55,0.6,0.65]}\n",
        "gsearch5 = GridSearchCV(estimator = GradientBoostingClassifier(learning_rate=0.15, n_estimators=60,max_depth=9,min_samples_split=800, min_samples_leaf=40, random_state=10,max_features=20),\n",
        "param_grid = param_test5, scoring='roc_auc',n_jobs=1,iid=False, cv=5)\n",
        "gsearch5.fit(train_data[predictors],train_data[target])\n",
        "gsearch5.best_params_, gsearch5.best_score_"
      ],
      "execution_count": 0,
      "outputs": [
        {
          "output_type": "execute_result",
          "data": {
            "text/plain": [
              "({'subsample': 0.6}, 0.8820200395445594)"
            ]
          },
          "metadata": {
            "tags": []
          },
          "execution_count": 22
        }
      ]
    },
    {
      "cell_type": "markdown",
      "metadata": {
        "id": "49n1qyuJlxkM",
        "colab_type": "text"
      },
      "source": [
        "Trying learning rate of one tenth of the one we used for the tuning. Number of trees is increased respectively by a factor of 10."
      ]
    },
    {
      "cell_type": "code",
      "metadata": {
        "id": "Eps5KY0iT_xU",
        "colab_type": "code",
        "outputId": "06008a8b-18ed-45ad-8fc6-694ddf47a450",
        "colab": {
          "base_uri": "https://localhost:8080/",
          "height": 489
        }
      },
      "source": [
        "predictors = [x for x in train_test.columns if x not in [target,IDcol]]\n",
        "\n",
        "X_train, X_test, y_train, y_test = train_test_split(train_data[predictors], train_data[target], test_size=0.2, random_state=10)\n",
        "model_gbc = GradientBoostingClassifier(\n",
        "    learning_rate=0.015,\n",
        "    n_estimators=600,\n",
        "    max_depth=9,\n",
        "    min_samples_split=800,\n",
        "    min_samples_leaf=40,\n",
        "    subsample=0.6,\n",
        "    random_state=10,\n",
        "    max_features=20)\n",
        "model_gbc.fit(X_train,y_train)\n",
        "\n",
        "y_pred = model_gbc.predict(X_test)\n",
        "y_pred_prob = model_gbc.predict_proba(X_test)[:,1]\n",
        "       \n",
        "#Print model report:\n",
        "print(\"\\nModel Report\")\n",
        "print('Accuracy: %.4g' % metrics.accuracy_score(y_test.values,y_pred))\n",
        "print('AUC Score: %f' % metrics.roc_auc_score(y_test,y_pred_prob))\n",
        "\n",
        "feat_imp = pd.Series(model_gbc.feature_importances_,predictors).sort_values(ascending=False)\n",
        "fig = plt.figure(figsize=(15,5))\n",
        "feat_imp[:80].plot(kind='bar', title='Feature Importances')\n",
        "plt.ylabel('Feature Importance Score')"
      ],
      "execution_count": 0,
      "outputs": [
        {
          "output_type": "stream",
          "text": [
            "\n",
            "Model Report\n",
            "Accuracy: 0.9771\n",
            "AUC Score: 0.910141\n"
          ],
          "name": "stdout"
        },
        {
          "output_type": "execute_result",
          "data": {
            "text/plain": [
              "Text(0, 0.5, 'Feature Importance Score')"
            ]
          },
          "metadata": {
            "tags": []
          },
          "execution_count": 23
        },
        {
          "output_type": "display_data",
          "data": {
            "image/png": "[encoded data removed]",
            "text/plain": [
              "<Figure size 1080x360 with 1 Axes>"
            ]
          },
          "metadata": {
            "tags": []
          }
        }
      ]
    },
    {
      "cell_type": "markdown",
      "metadata": {
        "id": "Ne_1ytqmnsrG",
        "colab_type": "text"
      },
      "source": [
        "Applying SMOTE to the baseline model."
      ]
    },
    {
      "cell_type": "code",
      "metadata": {
        "id": "T0EhC7EUT_sa",
        "colab_type": "code",
        "outputId": "40312fcb-d78c-41f5-c192-76bebca84063",
        "colab": {
          "base_uri": "https://localhost:8080/",
          "height": 492
        }
      },
      "source": [
        "predictors = [x for x in train_test.columns if x not in [target,IDcol]]\n",
        "\n",
        "from imblearn.over_sampling import SMOTE\n",
        "\n",
        "X_train, X_test, y_train, y_test = train_test_split(train_data[predictors], train_data[target], test_size=0.2, random_state=10)\n",
        "sm = SMOTE(random_state=10,ratio=1.0)\n",
        "X_train, y_train = sm.fit_sample(X_train, y_train)\n",
        "\n",
        "model_gbc = GradientBoostingClassifier(n_estimators = 10, random_state=10)\n",
        "model_gbc.fit(X_train,y_train)\n",
        "\n",
        "y_pred_smote_init = model_gbc.predict(X_test)\n",
        "y_pred_prob_smote_init = model_gbc.predict_proba(X_test)[:,1]\n",
        "       \n",
        "#Print model report:\n",
        "print(\"\\nSMOTE Initial Model Report\")\n",
        "print('Accuracy: %.4g' % metrics.accuracy_score(y_test.values,y_pred_smote_init))\n",
        "print('AUC Score: %f' % metrics.roc_auc_score(y_test,y_pred_prob_smote_init))\n",
        "\n",
        "feat_imp = pd.Series(model_gbc.feature_importances_,predictors).sort_values(ascending=False)\n",
        "fig = plt.figure(figsize=(15,5))\n",
        "feat_imp[:80].plot(kind='bar', title='Feature Importances')\n",
        "plt.ylabel('Feature Importance Score')"
      ],
      "execution_count": 0,
      "outputs": [
        {
          "output_type": "stream",
          "text": [
            "/usr/local/lib/python3.6/dist-packages/sklearn/externals/six.py:31: DeprecationWarning: The module is deprecated in version 0.21 and will be removed in version 0.23 since we've dropped support for Python 2.7. Please rely on the official version of six (https://pypi.org/project/six/).\n",
            "  \"(https://pypi.org/project/six/).\", DeprecationWarning)\n"
          ],
          "name": "stderr"
        },
        {
          "output_type": "stream",
          "text": [
            "\n",
            "SMOTE Initial Model Report\n",
            "Accuracy: 0.9192\n",
            "AUC Score: 0.846736\n"
          ],
          "name": "stdout"
        },
        {
          "output_type": "execute_result",
          "data": {
            "text/plain": [
              "Text(0, 0.5, 'Feature Importance Score')"
            ]
          },
          "metadata": {
            "tags": []
          },
          "execution_count": 30
        },
        {
          "output_type": "display_data",
          "data": {
            "image/png": "[encoded data removed]",
            "text/plain": [
              "<Figure size 1080x360 with 1 Axes>"
            ]
          },
          "metadata": {
            "tags": []
          }
        }
      ]
    },
    {
      "cell_type": "markdown",
      "metadata": {
        "id": "AFHHVGYJnv1_",
        "colab_type": "text"
      },
      "source": [
        "Applying SMOTE to the tuned model."
      ]
    },
    {
      "cell_type": "code",
      "metadata": {
        "id": "L8ABv3Umn3dW",
        "colab_type": "code",
        "outputId": "a500c77d-01a5-41e0-a8b1-1b6d6647950b",
        "colab": {
          "base_uri": "https://localhost:8080/",
          "height": 489
        }
      },
      "source": [
        "predictors = [x for x in train_test.columns if x not in [target,IDcol]]\n",
        "\n",
        "from imblearn.over_sampling import SMOTE\n",
        "\n",
        "X_train, X_test, y_train, y_test = train_test_split(train_data[predictors], train_data[target], test_size=0.2, random_state=10)\n",
        "sm = SMOTE(random_state=10,ratio=1.0)\n",
        "X_train, y_train = sm.fit_sample(X_train, y_train)\n",
        "\n",
        "model_gbc = GradientBoostingClassifier(\n",
        "    learning_rate=0.015,\n",
        "    n_estimators=600,\n",
        "    max_depth=9,\n",
        "    min_samples_split=800,\n",
        "    min_samples_leaf=40,\n",
        "    subsample=0.6,\n",
        "    random_state=10,\n",
        "    max_features=20)\n",
        "model_gbc.fit(X_train,y_train)\n",
        "\n",
        "y_pred_smote_tuned = model_gbc.predict(X_test)\n",
        "y_pred_prob_smote_tuned = model_gbc.predict_proba(X_test)[:,1]\n",
        "       \n",
        "#Print model report:\n",
        "print(\"\\nSMOTE Tuned Model Report\")\n",
        "print('Accuracy: %.4g' % metrics.accuracy_score(y_test.values,y_pred_smote_tuned))\n",
        "print('AUC Score: %f' % metrics.roc_auc_score(y_test,y_pred_prob_smote_tuned))\n",
        "\n",
        "feat_imp = pd.Series(model_gbc.feature_importances_,predictors).sort_values(ascending=False)\n",
        "fig = plt.figure(figsize=(15,5))\n",
        "feat_imp[:80].plot(kind='bar', title='Feature Importances')\n",
        "plt.ylabel('Feature Importance Score')"
      ],
      "execution_count": 0,
      "outputs": [
        {
          "output_type": "stream",
          "text": [
            "\n",
            "SMOTE Tuned Model Report\n",
            "Accuracy: 0.9777\n",
            "AUC Score: 0.913617\n"
          ],
          "name": "stdout"
        },
        {
          "output_type": "execute_result",
          "data": {
            "text/plain": [
              "Text(0, 0.5, 'Feature Importance Score')"
            ]
          },
          "metadata": {
            "tags": []
          },
          "execution_count": 14
        },
        {
          "output_type": "display_data",
          "data": {
            "image/png": "[encoded data removed]",
            "text/plain": [
              "<Figure size 1080x360 with 1 Axes>"
            ]
          },
          "metadata": {
            "tags": []
          }
        }
      ]
    }
  ]
}